{
 "cells": [
  {
   "cell_type": "code",
   "execution_count": 20,
   "id": "76e911ec-7637-49da-97d7-ae16dab737f7",
   "metadata": {},
   "outputs": [],
   "source": [
    "from PIL import Image\n",
    "import os\n",
    "from tqdm import tqdm"
   ]
  },
  {
   "cell_type": "code",
   "execution_count": 21,
   "id": "1bb0cae5-0a66-44ba-a328-90e9105e9044",
   "metadata": {},
   "outputs": [],
   "source": [
    "def resize_dataset(input_folder, output_folder):\n",
    "    if not os.path.exists(output_folder):\n",
    "        os.makedirs(output_folder)\n",
    "    \n",
    "    target_size = (400, 300)\n",
    "    scale_down_factor = 10\n",
    "\n",
    "    file_list = os.listdir(input_folder)\n",
    "    \n",
    "    # Use tqdm for the progress bar\n",
    "    for filename in tqdm(file_list, desc=\"Processing images\", unit=\"image\"):\n",
    "        input_path = os.path.join(input_folder, filename)\n",
    "    \n",
    "        img = Image.open(input_path)\n",
    "    \n",
    "        # Resize the image by scaling down 10 times\n",
    "        new_size = (img.width // scale_down_factor, img.height // scale_down_factor)\n",
    "        img = img.resize(new_size)\n",
    "    \n",
    "        # Crop the image to the target size (400x300)\n",
    "        left = (img.width - target_size[0]) // 2\n",
    "        top = (img.height - target_size[1]) // 2\n",
    "        right = (img.width + target_size[0]) // 2\n",
    "        bottom = (img.height + target_size[1]) // 2\n",
    "        img = img.crop((left, top, right, bottom))\n",
    "    \n",
    "        output_path = os.path.join(output_folder, filename)\n",
    "        img.save(output_path)\n",
    "    \n",
    "    print(\"Image processing completed.\")\n"
   ]
  },
  {
   "cell_type": "code",
   "execution_count": 23,
   "id": "18f18edd-1d29-4eef-ae22-9a2ceb1a6f32",
   "metadata": {},
   "outputs": [
    {
     "name": "stderr",
     "output_type": "stream",
     "text": [
      "Processing images: 100%|████████████████████████████████████████████████████████| 1445/1445 [03:29<00:00,  6.88image/s]\n"
     ]
    },
    {
     "name": "stdout",
     "output_type": "stream",
     "text": [
      "Image processing completed.\n",
      "Finished resizing ../FloodNet-Supervised_v1.0\\train/train-org-img; saved in ../FloodNet-Supervised_v1.0_resized\\train/train-org-img\n"
     ]
    },
    {
     "name": "stderr",
     "output_type": "stream",
     "text": [
      "Processing images: 100%|████████████████████████████████████████████████████████| 1445/1445 [01:03<00:00, 22.63image/s]\n"
     ]
    },
    {
     "name": "stdout",
     "output_type": "stream",
     "text": [
      "Image processing completed.\n",
      "Finished resizing ../FloodNet-Supervised_v1.0\\train/train-label-img; saved in ../FloodNet-Supervised_v1.0_resized\\train/train-label-img\n"
     ]
    },
    {
     "name": "stderr",
     "output_type": "stream",
     "text": [
      "Processing images: 100%|██████████████████████████████████████████████████████████| 450/450 [01:07<00:00,  6.71image/s]\n"
     ]
    },
    {
     "name": "stdout",
     "output_type": "stream",
     "text": [
      "Image processing completed.\n",
      "Finished resizing ../FloodNet-Supervised_v1.0\\val/val-org-img; saved in ../FloodNet-Supervised_v1.0_resized\\val/val-org-img\n"
     ]
    },
    {
     "name": "stderr",
     "output_type": "stream",
     "text": [
      "Processing images: 100%|██████████████████████████████████████████████████████████| 450/450 [00:20<00:00, 22.30image/s]"
     ]
    },
    {
     "name": "stdout",
     "output_type": "stream",
     "text": [
      "Image processing completed.\n",
      "Finished resizing ../FloodNet-Supervised_v1.0\\val/val-label-img; saved in ../FloodNet-Supervised_v1.0_resized\\val/val-label-img\n"
     ]
    },
    {
     "name": "stderr",
     "output_type": "stream",
     "text": [
      "\n"
     ]
    }
   ],
   "source": [
    "root = \"../FloodNet-Supervised_v1.0\"\n",
    "modes = ['train', 'val']\n",
    "modes2 = ['org', 'label']\n",
    "\n",
    "for m in modes:\n",
    "    for m2 in modes2:\n",
    "        input_folder = os.path.join(root, f\"{m}/{m}-{m2}-img\")\n",
    "        output_folder = os.path.join(root+\"_resized\", f\"{m}/{m}-{m2}-img\")\n",
    "        resize_dataset(input_folder, output_folder)\n",
    "        print(f\"Finished resizing {input_folder}; saved in {output_folder}\")"
   ]
  },
  {
   "cell_type": "code",
   "execution_count": null,
   "id": "0aa5df1c-7cb0-434b-9115-1774dc559e45",
   "metadata": {},
   "outputs": [],
   "source": []
  }
 ],
 "metadata": {
  "kernelspec": {
   "display_name": "Python 3 (ipykernel)",
   "language": "python",
   "name": "python3"
  },
  "language_info": {
   "codemirror_mode": {
    "name": "ipython",
    "version": 3
   },
   "file_extension": ".py",
   "mimetype": "text/x-python",
   "name": "python",
   "nbconvert_exporter": "python",
   "pygments_lexer": "ipython3",
   "version": "3.8.18"
  }
 },
 "nbformat": 4,
 "nbformat_minor": 5
}
